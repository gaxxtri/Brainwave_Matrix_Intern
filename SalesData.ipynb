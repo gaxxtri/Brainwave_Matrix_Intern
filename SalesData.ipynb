{
  "metadata": {
    "kernelspec": {
      "name": "python",
      "display_name": "Python (Pyodide)",
      "language": "python"
    },
    "language_info": {
      "codemirror_mode": {
        "name": "python",
        "version": 3
      },
      "file_extension": ".py",
      "mimetype": "text/x-python",
      "name": "python",
      "nbconvert_exporter": "python",
      "pygments_lexer": "ipython3",
      "version": "3.8"
    }
  },
  "nbformat_minor": 4,
  "nbformat": 4,
  "cells": [
    {
      "cell_type": "code",
      "source": "import pandas as pd\nimport numpy as np\n\n# 1.Loading Data\nnp.random.seed(42)\n\ndates = pd.date_range(start='2023-01-01', end='2023-12-31')\n\ndata = {\n    'Date': np.random.choice(dates, 1000),\n    'Product_ID': np.random.randint(1000, 1100, 1000),\n    'Store_ID': np.random.randint(1, 11, 1000),\n    'Sales_Amount': np.round(np.random.uniform(20.0, 200.0, 1000), 2),\n    'Units_Sold': np.random.randint(1, 20, 1000)\n}\n\nsales_data = pd.DataFrame(data)\n\nsales_data.head()\n",
      "metadata": {
        "trusted": true
      },
      "outputs": [
        {
          "execution_count": 3,
          "output_type": "execute_result",
          "data": {
            "text/plain": "        Date  Product_ID  Store_ID  Sales_Amount  Units_Sold\n0 2023-04-13        1002         7         76.22          10\n1 2023-12-15        1032         5        135.68          18\n2 2023-09-28        1005         7         55.25          18\n3 2023-04-17        1049         3        181.45           3\n4 2023-03-13        1009         2        113.63          15",
            "text/html": "<div>\n<style scoped>\n    .dataframe tbody tr th:only-of-type {\n        vertical-align: middle;\n    }\n\n    .dataframe tbody tr th {\n        vertical-align: top;\n    }\n\n    .dataframe thead th {\n        text-align: right;\n    }\n</style>\n<table border=\"1\" class=\"dataframe\">\n  <thead>\n    <tr style=\"text-align: right;\">\n      <th></th>\n      <th>Date</th>\n      <th>Product_ID</th>\n      <th>Store_ID</th>\n      <th>Sales_Amount</th>\n      <th>Units_Sold</th>\n    </tr>\n  </thead>\n  <tbody>\n    <tr>\n      <th>0</th>\n      <td>2023-04-13</td>\n      <td>1002</td>\n      <td>7</td>\n      <td>76.22</td>\n      <td>10</td>\n    </tr>\n    <tr>\n      <th>1</th>\n      <td>2023-12-15</td>\n      <td>1032</td>\n      <td>5</td>\n      <td>135.68</td>\n      <td>18</td>\n    </tr>\n    <tr>\n      <th>2</th>\n      <td>2023-09-28</td>\n      <td>1005</td>\n      <td>7</td>\n      <td>55.25</td>\n      <td>18</td>\n    </tr>\n    <tr>\n      <th>3</th>\n      <td>2023-04-17</td>\n      <td>1049</td>\n      <td>3</td>\n      <td>181.45</td>\n      <td>3</td>\n    </tr>\n    <tr>\n      <th>4</th>\n      <td>2023-03-13</td>\n      <td>1009</td>\n      <td>2</td>\n      <td>113.63</td>\n      <td>15</td>\n    </tr>\n  </tbody>\n</table>\n</div>"
          },
          "metadata": {}
        }
      ],
      "execution_count": 3
    },
    {
      "cell_type": "code",
      "source": "#2.Data Cleaning\n# Check for missing values\nprint(sales_data.isnull().sum())\n\n# Check for duplicates\nprint(sales_data.duplicated().sum())\n\n# Remove duplicates if any\nsales_data.drop_duplicates(inplace=True)\n",
      "metadata": {
        "trusted": true
      },
      "outputs": [
        {
          "name": "stdout",
          "text": "Date            0\nProduct_ID      0\nStore_ID        0\nSales_Amount    0\nUnits_Sold      0\ndtype: int64\n0\n",
          "output_type": "stream"
        }
      ],
      "execution_count": 4
    },
    {
      "cell_type": "code",
      "source": "#3.Exploratory Data Analysis (EDA)\n# Summary statistics\nsales_data.describe()\n",
      "metadata": {
        "trusted": true
      },
      "outputs": [
        {
          "execution_count": 6,
          "output_type": "execute_result",
          "data": {
            "text/plain": "        Product_ID     Store_ID  Sales_Amount   Units_Sold\ncount  1000.000000  1000.000000   1000.000000  1000.000000\nmean   1048.994000     5.496000    111.392310    10.450000\nstd      29.176553     2.834787     52.469125     5.356509\nmin    1000.000000     1.000000     20.030000     1.000000\n25%    1024.000000     3.000000     65.292500     6.000000\n50%    1048.000000     5.000000    114.690000    11.000000\n75%    1074.000000     8.000000    156.722500    15.000000\nmax    1099.000000    10.000000    199.950000    19.000000",
            "text/html": "<div>\n<style scoped>\n    .dataframe tbody tr th:only-of-type {\n        vertical-align: middle;\n    }\n\n    .dataframe tbody tr th {\n        vertical-align: top;\n    }\n\n    .dataframe thead th {\n        text-align: right;\n    }\n</style>\n<table border=\"1\" class=\"dataframe\">\n  <thead>\n    <tr style=\"text-align: right;\">\n      <th></th>\n      <th>Product_ID</th>\n      <th>Store_ID</th>\n      <th>Sales_Amount</th>\n      <th>Units_Sold</th>\n    </tr>\n  </thead>\n  <tbody>\n    <tr>\n      <th>count</th>\n      <td>1000.000000</td>\n      <td>1000.000000</td>\n      <td>1000.000000</td>\n      <td>1000.000000</td>\n    </tr>\n    <tr>\n      <th>mean</th>\n      <td>1048.994000</td>\n      <td>5.496000</td>\n      <td>111.392310</td>\n      <td>10.450000</td>\n    </tr>\n    <tr>\n      <th>std</th>\n      <td>29.176553</td>\n      <td>2.834787</td>\n      <td>52.469125</td>\n      <td>5.356509</td>\n    </tr>\n    <tr>\n      <th>min</th>\n      <td>1000.000000</td>\n      <td>1.000000</td>\n      <td>20.030000</td>\n      <td>1.000000</td>\n    </tr>\n    <tr>\n      <th>25%</th>\n      <td>1024.000000</td>\n      <td>3.000000</td>\n      <td>65.292500</td>\n      <td>6.000000</td>\n    </tr>\n    <tr>\n      <th>50%</th>\n      <td>1048.000000</td>\n      <td>5.000000</td>\n      <td>114.690000</td>\n      <td>11.000000</td>\n    </tr>\n    <tr>\n      <th>75%</th>\n      <td>1074.000000</td>\n      <td>8.000000</td>\n      <td>156.722500</td>\n      <td>15.000000</td>\n    </tr>\n    <tr>\n      <th>max</th>\n      <td>1099.000000</td>\n      <td>10.000000</td>\n      <td>199.950000</td>\n      <td>19.000000</td>\n    </tr>\n  </tbody>\n</table>\n</div>"
          },
          "metadata": {}
        }
      ],
      "execution_count": 6
    },
    {
      "cell_type": "code",
      "source": "# Group by Date\ndaily_sales = sales_data.groupby('Date').agg({'Sales_Amount': 'sum', 'Units_Sold': 'sum'}).reset_index()\n\n# Plotting daily sales\nimport matplotlib.pyplot as plt\n\nplt.figure(figsize=(14, 7))\nplt.plot(daily_sales['Date'], daily_sales['Sales_Amount'], label='Sales Amount')\nplt.title('Daily Sales Amount Over Time')\nplt.xlabel('Date')\nplt.ylabel('Sales Amount')\nplt.legend()\nplt.grid(True)\nplt.show()\n",
      "metadata": {
        "trusted": true
      },
      "outputs": [],
      "execution_count": null
    }
  ]
}